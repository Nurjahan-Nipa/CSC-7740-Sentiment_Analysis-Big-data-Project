{
 "cells": [
  {
   "cell_type": "code",
   "execution_count": 1,
   "id": "83687b14-5574-4a0c-999b-db94c16f650b",
   "metadata": {},
   "outputs": [],
   "source": [
    "import pyspark\n",
    "import pandas as pd"
   ]
  },
  {
   "cell_type": "code",
   "execution_count": 2,
   "id": "8f61297e-3a03-44fe-a887-7a3ceafb5d5e",
   "metadata": {},
   "outputs": [],
   "source": [
    "# Spark Session created\n",
    "#from pyspark.sql import SparkSession\n",
    "#spark = SparkSession.builder.getOrCreate()\n",
    "from pyspark.sql import SparkSession\n",
    "\n",
    "spark = SparkSession.builder \\\n",
    "    .appName(\"topic_modeling\") \\\n",
    "    .config(\"spark.driver.memory\", \"4g\") \\\n",
    "    .getOrCreate()\n"
   ]
  },
  {
   "cell_type": "code",
   "execution_count": 3,
   "id": "c23ecc19-9ee1-47b1-a5f5-5691955c284b",
   "metadata": {},
   "outputs": [],
   "source": [
    "#spark.stop()"
   ]
  },
  {
   "cell_type": "code",
   "execution_count": 4,
   "id": "61944a7b-f592-40bf-ab84-3ac69106fc6e",
   "metadata": {},
   "outputs": [
    {
     "data": {
      "text/html": [
       "<div>\n",
       "<style scoped>\n",
       "    .dataframe tbody tr th:only-of-type {\n",
       "        vertical-align: middle;\n",
       "    }\n",
       "\n",
       "    .dataframe tbody tr th {\n",
       "        vertical-align: top;\n",
       "    }\n",
       "\n",
       "    .dataframe thead th {\n",
       "        text-align: right;\n",
       "    }\n",
       "</style>\n",
       "<table border=\"1\" class=\"dataframe\">\n",
       "  <thead>\n",
       "    <tr style=\"text-align: right;\">\n",
       "      <th></th>\n",
       "      <th>TweetID</th>\n",
       "      <th>UserID</th>\n",
       "      <th>Username</th>\n",
       "      <th>Timestamp</th>\n",
       "      <th>Text</th>\n",
       "      <th>State</th>\n",
       "      <th>County</th>\n",
       "      <th>City</th>\n",
       "      <th>Sentiment</th>\n",
       "      <th>COVID-related</th>\n",
       "      <th>AgeGroup</th>\n",
       "      <th>Age_Confidence</th>\n",
       "      <th>Gender</th>\n",
       "      <th>Gender_Confidence</th>\n",
       "      <th>Org_Confidence</th>\n",
       "      <th>Retweet</th>\n",
       "    </tr>\n",
       "  </thead>\n",
       "  <tbody>\n",
       "    <tr>\n",
       "      <th>0</th>\n",
       "      <td>1240790697504051203</td>\n",
       "      <td>724718492205875203</td>\n",
       "      <td>lionray98</td>\n",
       "      <td>Fri Mar 20 00:02:09 +0000 2020</td>\n",
       "      <td>We learned today that two Lakers players have ...</td>\n",
       "      <td>Louisiana</td>\n",
       "      <td>NaN</td>\n",
       "      <td>NaN</td>\n",
       "      <td>0.7783</td>\n",
       "      <td>1</td>\n",
       "      <td>19-29</td>\n",
       "      <td>0.9404</td>\n",
       "      <td>male</td>\n",
       "      <td>0.9999</td>\n",
       "      <td>0.0</td>\n",
       "      <td>1</td>\n",
       "    </tr>\n",
       "  </tbody>\n",
       "</table>\n",
       "</div>"
      ],
      "text/plain": [
       "               TweetID              UserID   Username  \\\n",
       "0  1240790697504051203  724718492205875203  lionray98   \n",
       "\n",
       "                        Timestamp  \\\n",
       "0  Fri Mar 20 00:02:09 +0000 2020   \n",
       "\n",
       "                                                Text      State County City  \\\n",
       "0  We learned today that two Lakers players have ...  Louisiana    NaN  NaN   \n",
       "\n",
       "   Sentiment  COVID-related AgeGroup  Age_Confidence Gender  \\\n",
       "0     0.7783              1    19-29          0.9404   male   \n",
       "\n",
       "   Gender_Confidence  Org_Confidence  Retweet  \n",
       "0             0.9999             0.0        1  "
      ]
     },
     "execution_count": 4,
     "metadata": {},
     "output_type": "execute_result"
    }
   ],
   "source": [
    "df = pd.read_csv(\"tweets.csv\")\n",
    "df.head(1)"
   ]
  },
  {
   "cell_type": "code",
   "execution_count": 5,
   "id": "2e6275b8-de4c-430b-bbe6-0ae86d5b98b8",
   "metadata": {},
   "outputs": [
    {
     "name": "stdout",
     "output_type": "stream",
     "text": [
      "+-------------------+------------------+---------+--------------------+--------------------+---------+------+----+---------+-------------+--------+--------------+------+-----------------+--------------+-------+\n",
      "|            TweetID|            UserID| Username|           Timestamp|                Text|    State|County|City|Sentiment|COVID-related|AgeGroup|Age_Confidence|Gender|Gender_Confidence|Org_Confidence|Retweet|\n",
      "+-------------------+------------------+---------+--------------------+--------------------+---------+------+----+---------+-------------+--------+--------------+------+-----------------+--------------+-------+\n",
      "|1240790697504051203|724718492205875203|lionray98|Fri Mar 20 00:02:...|We learned today ...|Louisiana|   NaN| NaN|   0.7783|            1|   19-29|        0.9404|  male|           0.9999|           0.0|      1|\n",
      "+-------------------+------------------+---------+--------------------+--------------------+---------+------+----+---------+-------------+--------+--------------+------+-----------------+--------------+-------+\n",
      "only showing top 1 row\n",
      "\n"
     ]
    }
   ],
   "source": [
    "# Convert Pandas DataFrame to Spark DataFrame\n",
    "spark_df = spark.createDataFrame(df)\n",
    "\n",
    "# Show the Spark DataFrame\n",
    "spark_df.show(1)"
   ]
  },
  {
   "cell_type": "code",
   "execution_count": 6,
   "id": "dc4d9fb1-a86d-41f8-acdd-7d72f151c117",
   "metadata": {},
   "outputs": [
    {
     "name": "stdout",
     "output_type": "stream",
     "text": [
      "Number of rows: 314534\n",
      "Number of columns: 16\n"
     ]
    }
   ],
   "source": [
    "# Get the number of rows\n",
    "num_rows = spark_df.count()\n",
    "print(f\"Number of rows: {num_rows}\")\n",
    "# Get the number of columns\n",
    "num_columns = len(spark_df.columns)\n",
    "print(f\"Number of columns: {num_columns}\")"
   ]
  },
  {
   "cell_type": "code",
   "execution_count": 7,
   "id": "1c61cff7-45d8-479f-b71d-ca4193b6057a",
   "metadata": {},
   "outputs": [
    {
     "name": "stdout",
     "output_type": "stream",
     "text": [
      "+--------------------------------------------------------------------------------------------------------------------------------------------------------------------------------------------------------------------------------------------------------------------------------------------------------------------+----------------------------------------------------------------------------------------------------------------------------------------------------------------------------------------------------------------------------------------------------------------------------------------+\n",
      "|Text                                                                                                                                                                                                                                                                                                                |filtered_words                                                                                                                                                                                                                                                                          |\n",
      "+--------------------------------------------------------------------------------------------------------------------------------------------------------------------------------------------------------------------------------------------------------------------------------------------------------------------+----------------------------------------------------------------------------------------------------------------------------------------------------------------------------------------------------------------------------------------------------------------------------------------+\n",
      "|We learned today that two Lakers players have tested positive for COVID-19. Both players are currently asymptomatic, in quarantine and under the care of the team’s physician.\\n\\nhttps://t.co/RmqjnRzGLk                                                                                                           |[learned, today, two, lakers, players, tested, positive, covid-19., players, currently, asymptomatic,, quarantine, care, team’s, physician., , https://t.co/rmqjnrzglk]                                                                                                                 |\n",
      "|By the end of February, a Berlin start-up had produced 1.4 million tests for coronavirus to ship around the world.  The US said no thanks; we can create our own. \\nBut now after numerous failures, the US now has the lowest rate for testing its citizens  https://t.co/ulTFDOOlje                               |[end, february,, berlin, start-up, produced, 1.4, million, tests, coronavirus, ship, around, world., , us, said, thanks;, create, own., , numerous, failures,, us, lowest, rate, testing, citizens, , https://t.co/ultfdoolje]                                                          |\n",
      "|I want those of you who are not being allowed to take time off to self-isolate during a HIGHLY contagious pandemic to remember, when this is over - CAPITALISM NEEDS YOU MORE THAN YOU NEED IT                                                                                                                      |[want, allowed, take, time, self-isolate, highly, contagious, pandemic, remember,, -, capitalism, needs, need]                                                                                                                                                                          |\n",
      "|I was tested 5 days ago and the results came back tonight, which were positive. Ive been self quarantined since the test, thank goodness. COVID-19 must be taken w the highest of seriousness. I know it’s a #1 priority for our nations health experts, &amp; we must get more testing ASAP https://t.co/xkijb9wlKV|[tested, 5, days, ago, results, came, back, tonight,, positive., ive, self, quarantined, since, test,, thank, goodness., covid-19, must, taken, w, highest, seriousness., know, it’s, #1, priority, nations, health, experts,, &amp;, must, get, testing, asap, https://t.co/xkijb9wlkv]|\n",
      "|Day 4 of Quarantine. Wine has become my new favorite drink https://t.co/m9MHiia1b2                                                                                                                                                                                                                                  |[day, 4, quarantine., wine, become, new, favorite, drink, https://t.co/m9mhiia1b2]                                                                                                                                                                                                      |\n",
      "|@k_simon97 That’s BEEN the real virus going around. I seen to many fallen soldiers due to this pandemic.                                                                                                                                                                                                            |[@k_simon97, that’s, real, virus, going, around., seen, many, fallen, soldiers, due, pandemic.]                                                                                                                                                                                         |\n",
      "|Day 371 without sex. Day 33 of quarantine. https://t.co/upvuryTkKC                                                                                                                                                                                                                                                  |[day, 371, without, sex., day, 33, quarantine., https://t.co/upvurytkkc]                                                                                                                                                                                                                |\n",
      "|this video is keeping me going through this quarantine https://t.co/5J75JSGfTw                                                                                                                                                                                                                                      |[video, keeping, going, quarantine, https://t.co/5j75jsgftw]                                                                                                                                                                                                                            |\n",
      "|\"Yes, I’m Asian. And yes, I have coronavirus. But I did not get it from China. I got it in America. In New York City. And despite what certain political leaders want to call it, I don’t consider the place where it's from as important as the people who are sick and dying.\" https://t.co/r2FfVjPLzF            |[\"yes,, i’m, asian., yes,, coronavirus., get, china., got, america., new, york, city., despite, certain, political, leaders, want, call, it,, don’t, consider, place, important, people, sick, dying.\", https://t.co/r2ffvjplzf]                                                        |\n",
      "|day 21 in quarantine: https://t.co/3HnTB4Fl6S                                                                                                                                                                                                                                                                       |[day, 21, quarantine:, https://t.co/3hntb4fl6s]                                                                                                                                                                                                                                         |\n",
      "|A 2009 Vote Against Pandemic Funding Comes Back to Haunt Senator Susan Collins https://t.co/laiyPIh7Ck                                                                                                                                                                                                              |[2009, vote, pandemic, funding, comes, back, haunt, senator, susan, collins, https://t.co/laiypih7ck]                                                                                                                                                                                   |\n",
      "|In Amite, one ER doctor who did not have proper equipment and learned he had coronavirus said, “I’m sure I exposed everyone I saw.” \\n\\nRead more here from @nolanews + @propublica: https://t.co/67epOFCjJT                                                                                                        |[amite,, one, er, doctor, proper, equipment, learned, coronavirus, said,, “i’m, sure, exposed, everyone, saw.”, , , read, @nolanews, +, @propublica:, https://t.co/67epofcjjt]                                                                                                          |\n",
      "|All ima say is, Ian have to quarantine when Obama was President.                                                                                                                                                                                                                                                    |[ima, say, is,, ian, quarantine, obama, president.]                                                                                                                                                                                                                                     |\n",
      "|New Orleans among top 5 cities to feel greatest COVID-19 impact, report suggests https://t.co/rRUhbf5BZV                                                                                                                                                                                                            |[new, orleans, among, top, 5, cities, feel, greatest, covid-19, impact,, report, suggests, https://t.co/rruhbf5bzv]                                                                                                                                                                     |\n",
      "|@AndreaRussett What’s it like being stuck in quarantine in LA?                                                                                                                                                                                                                                                      |[@andrearussett, what’s, like, stuck, quarantine, la?]                                                                                                                                                                                                                                  |\n",
      "|Have to give credit to those in the trenches: @therealleadAPP @D_MundyFNP @cesarfha @KTJoanna2587 @MunerMohamed1 💪💪💪#COVID19 @OchsnerNephro                                                                                                                                                                      |[give, credit, trenches:, @therealleadapp, @d_mundyfnp, @cesarfha, @ktjoanna2587, @munermohamed1, 💪💪💪#covid19, @ochsnernephro]                                                                                                                                                       |\n",
      "|the government is making us quarantine so they can change the batteries in the pigeons                                                                                                                                                                                                                              |[government, making, us, quarantine, change, batteries, pigeons]                                                                                                                                                                                                                        |\n",
      "|watch lebron have that Rona                                                                                                                                                                                                                                                                                         |[watch, lebron, rona]                                                                                                                                                                                                                                                                   |\n",
      "|While people are forced to stay home to fight the spread of the coronavirus, Shreveport's entertainment community is bringing talent to a new stage. https://t.co/H8WRZzoTVn                                                                                                                                        |[people, forced, stay, home, fight, spread, coronavirus,, shreveport's, entertainment, community, bringing, talent, new, stage., https://t.co/h8wrzzotvn]                                                                                                                               |\n",
      "|Celtics guard Marcus Smart announces he has tested positive for coronavirus.                                                                                                                                                                                                                                        |[celtics, guard, marcus, smart, announces, tested, positive, coronavirus.]                                                                                                                                                                                                              |\n",
      "+--------------------------------------------------------------------------------------------------------------------------------------------------------------------------------------------------------------------------------------------------------------------------------------------------------------------+----------------------------------------------------------------------------------------------------------------------------------------------------------------------------------------------------------------------------------------------------------------------------------------+\n",
      "only showing top 20 rows\n",
      "\n"
     ]
    }
   ],
   "source": [
    "## Data Preprocessing \n",
    "\n",
    "from pyspark.ml.feature import Tokenizer, StopWordsRemover\n",
    "\n",
    "# Tokenize the text\n",
    "tokenizer = Tokenizer(inputCol=\"Text\", outputCol=\"words\")\n",
    "tweets_words = tokenizer.transform(spark_df)\n",
    "\n",
    "# Remove stop words\n",
    "remover = StopWordsRemover(inputCol=\"words\", outputCol=\"filtered_words\")\n",
    "tweets_filtered = remover.transform(tweets_words)\n",
    "\n",
    "# Show the preprocessed DataFrame\n",
    "tweets_filtered.select(\"Text\", \"filtered_words\").show(truncate=False)\n"
   ]
  },
  {
   "cell_type": "code",
   "execution_count": 8,
   "id": "8a59f1ef-102a-4fba-afa8-6abbc9cf331f",
   "metadata": {},
   "outputs": [
    {
     "name": "stdout",
     "output_type": "stream",
     "text": [
      "+--------------------------------------------------------------------------------------------------------------------------------------------------------------------------------------------------------------------------------------------------------------------------------------------------------------------+----------------------------------------------------------------------------------------------------------------------------------------------------------------------------------------------------------------------------------------------------------------------------------------------+\n",
      "|Text                                                                                                                                                                                                                                                                                                                |features                                                                                                                                                                                                                                                                                      |\n",
      "+--------------------------------------------------------------------------------------------------------------------------------------------------------------------------------------------------------------------------------------------------------------------------------------------------------------------+----------------------------------------------------------------------------------------------------------------------------------------------------------------------------------------------------------------------------------------------------------------------------------------------+\n",
      "|We learned today that two Lakers players have tested positive for COVID-19. Both players are currently asymptomatic, in quarantine and under the care of the team’s physician.\\n\\nhttps://t.co/RmqjnRzGLk                                                                                                           |(262144,[0,6,55,64,67,68,91,92,483,962,1856,7099,11055,13100,18035,40960],[1.0,1.0,1.0,1.0,1.0,1.0,1.0,1.0,1.0,1.0,2.0,1.0,1.0,1.0,1.0,1.0])                                                                                                                                                  |\n",
      "|By the end of February, a Berlin start-up had produced 1.4 million tests for coronavirus to ship around the world.  The US said no thanks; we can create our own. \\nBut now after numerous failures, the US now has the lowest rate for testing its citizens  https://t.co/ulTFDOOlje                               |(262144,[0,1,15,52,62,111,134,185,210,321,789,1062,1275,1885,2188,3325,3734,5397,7758,9762,16124,18403,97704,124279],[3.0,1.0,2.0,1.0,1.0,1.0,1.0,1.0,1.0,1.0,1.0,1.0,1.0,1.0,1.0,1.0,1.0,1.0,1.0,1.0,1.0,1.0,1.0,1.0])                                                                       |\n",
      "|I want those of you who are not being allowed to take time off to self-isolate during a HIGHLY contagious pandemic to remember, when this is over - CAPITALISM NEEDS YOU MORE THAN YOU NEED IT                                                                                                                      |(262144,[7,10,18,29,38,45,143,887,2461,2474,4145,5590,6213],[1.0,1.0,1.0,1.0,1.0,1.0,1.0,1.0,1.0,1.0,1.0,1.0,1.0])                                                                                                                                                                            |\n",
      "|I was tested 5 days ago and the results came back tonight, which were positive. Ive been self quarantined since the test, thank goodness. COVID-19 must be taken w the highest of seriousness. I know it’s a #1 priority for our nations health experts, &amp; we must get more testing ASAP https://t.co/xkijb9wlKV|(262144,[3,4,11,21,27,32,62,63,68,76,77,100,135,182,273,398,402,444,560,665,715,946,1314,1914,3101,3275,3968,4726,4926,5299,9151,15066,20867,27271],[1.0,1.0,1.0,1.0,1.0,1.0,1.0,1.0,1.0,2.0,1.0,1.0,1.0,1.0,1.0,1.0,1.0,1.0,1.0,1.0,1.0,1.0,1.0,1.0,1.0,1.0,1.0,1.0,1.0,1.0,1.0,1.0,1.0,1.0])|\n",
      "|Day 4 of Quarantine. Wine has become my new favorite drink https://t.co/m9MHiia1b2                                                                                                                                                                                                                                  |(262144,[12,20,213,394,498,1504,1804,3960,11754],[1.0,1.0,1.0,1.0,1.0,1.0,1.0,1.0,1.0])                                                                                                                                                                                                       |\n",
      "|@k_simon97 That’s BEEN the real virus going around. I seen to many fallen soldiers due to this pandemic.                                                                                                                                                                                                            |(262144,[8,25,44,49,70,191,195,317,3246,4457,5902],[1.0,1.0,1.0,1.0,1.0,1.0,1.0,1.0,1.0,1.0,1.0])                                                                                                                                                                                             |\n",
      "|Day 371 without sex. Day 33 of quarantine. https://t.co/upvuryTkKC                                                                                                                                                                                                                                                  |(262144,[20,122,394,8266,16690,149116],[2.0,1.0,1.0,1.0,1.0,1.0])                                                                                                                                                                                                                             |\n",
      "|this video is keeping me going through this quarantine https://t.co/5J75JSGfTw                                                                                                                                                                                                                                      |(262144,[6,25,316,838,20115],[1.0,1.0,1.0,1.0,1.0])                                                                                                                                                                                                                                           |\n",
      "|\"Yes, I’m Asian. And yes, I have coronavirus. But I did not get it from China. I got it in America. In New York City. And despite what certain political leaders want to call it, I don’t consider the place where it's from as important as the people who are sick and dying.\" https://t.co/r2FfVjPLzF            |(262144,[2,11,12,36,37,38,40,72,151,161,323,358,362,387,460,545,687,827,861,1494,1526,1561,3462,11049,12450,13413,16784],[1.0,1.0,1.0,1.0,1.0,1.0,1.0,1.0,1.0,1.0,1.0,1.0,1.0,1.0,1.0,1.0,1.0,1.0,1.0,1.0,1.0,1.0,1.0,1.0,1.0,1.0,1.0])                                                       |\n",
      "|day 21 in quarantine: https://t.co/3HnTB4Fl6S                                                                                                                                                                                                                                                                       |(262144,[20,243,1632,7213],[1.0,1.0,1.0,1.0])                                                                                                                                                                                                                                                 |\n",
      "|A 2009 Vote Against Pandemic Funding Comes Back to Haunt Senator Susan Collins https://t.co/laiyPIh7Ck                                                                                                                                                                                                              |(262144,[7,63,199,549,615,746,2334,2640,3501,15917],[1.0,1.0,1.0,1.0,1.0,1.0,1.0,1.0,1.0,1.0])                                                                                                                                                                                                |\n",
      "|In Amite, one ER doctor who did not have proper equipment and learned he had coronavirus said, “I’m sure I exposed everyone I saw.” \\n\\nRead more here from @nolanews + @propublica: https://t.co/67epOFCjJT                                                                                                        |(262144,[0,1,16,56,196,286,476,491,572,772,782,962,1268,2049,2374,3104,19576,20179,20648,20704],[2.0,1.0,1.0,1.0,1.0,1.0,1.0,1.0,1.0,1.0,1.0,1.0,1.0,1.0,1.0,1.0,1.0,1.0,1.0,1.0])                                                                                                            |\n",
      "|All ima say is, Ian have to quarantine when Obama was President.                                                                                                                                                                                                                                                    |(262144,[6,94,704,1130,1206,3904,19790],[1.0,1.0,1.0,1.0,1.0,1.0,1.0])                                                                                                                                                                                                                        |\n",
      "|New Orleans among top 5 cities to feel greatest COVID-19 impact, report suggests https://t.co/rRUhbf5BZV                                                                                                                                                                                                            |(262144,[4,12,182,198,411,485,543,781,1591,2214,2578,12933],[1.0,1.0,1.0,1.0,1.0,1.0,1.0,1.0,1.0,1.0,1.0,1.0])                                                                                                                                                                                |\n",
      "|@AndreaRussett What’s it like being stuck in quarantine in LA?                                                                                                                                                                                                                                                      |(262144,[6,13,600,1537,119285,191655],[1.0,1.0,1.0,1.0,1.0,1.0])                                                                                                                                                                                                                              |\n",
      "|Have to give credit to those in the trenches: @therealleadAPP @D_MundyFNP @cesarfha @KTJoanna2587 @MunerMohamed1 💪💪💪#COVID19 @OchsnerNephro                                                                                                                                                                      |(262144,[167,2465,38215,56783,85281,94364,109269,119562,123847,125052],[1.0,1.0,1.0,1.0,1.0,1.0,1.0,1.0,1.0,1.0])                                                                                                                                                                             |\n",
      "|the government is making us quarantine so they can change the batteries in the pigeons                                                                                                                                                                                                                              |(262144,[6,15,113,160,535,6499,6852],[1.0,1.0,1.0,1.0,1.0,1.0,1.0])                                                                                                                                                                                                                           |\n",
      "|watch lebron have that Rona                                                                                                                                                                                                                                                                                         |(262144,[208,743,20131],[1.0,1.0,1.0])                                                                                                                                                                                                                                                        |\n",
      "|While people are forced to stay home to fight the spread of the coronavirus, Shreveport's entertainment community is bringing talent to a new stage. https://t.co/H8WRZzoTVn                                                                                                                                        |(262144,[2,12,33,35,39,124,225,298,940,1298,2762,6288,8468,76236,231932],[1.0,1.0,1.0,1.0,1.0,1.0,1.0,1.0,1.0,1.0,1.0,1.0,1.0,1.0,1.0])                                                                                                                                                       |\n",
      "|Celtics guard Marcus Smart announces he has tested positive for coronavirus.                                                                                                                                                                                                                                        |(262144,[67,68,72,1134,1741,1846,16512,29445],[1.0,1.0,1.0,1.0,1.0,1.0,1.0,1.0])                                                                                                                                                                                                              |\n",
      "+--------------------------------------------------------------------------------------------------------------------------------------------------------------------------------------------------------------------------------------------------------------------------------------------------------------------+----------------------------------------------------------------------------------------------------------------------------------------------------------------------------------------------------------------------------------------------------------------------------------------------+\n",
      "only showing top 20 rows\n",
      "\n"
     ]
    }
   ],
   "source": [
    "## Data Preprocessing \n",
    "\n",
    "from pyspark.ml.feature import CountVectorizer\n",
    "\n",
    "# Create a CountVectorizer model\n",
    "cv = CountVectorizer(inputCol=\"filtered_words\", outputCol=\"features\")\n",
    "\n",
    "# Fit the model to the DataFrame and transform it\n",
    "cv_model = cv.fit(tweets_filtered)\n",
    "tweets_dtm = cv_model.transform(tweets_filtered)\n",
    "\n",
    "# Show the DTM\n",
    "tweets_dtm.select(\"Text\", \"features\").show(truncate=False)\n"
   ]
  },
  {
   "cell_type": "code",
   "execution_count": 9,
   "id": "c65871b9-5e10-437f-a424-9cecd2395c77",
   "metadata": {},
   "outputs": [
    {
     "name": "stdout",
     "output_type": "stream",
     "text": [
      "Topic 0: ['', 'pandemic', '&amp;', 'coronavirus', '#covid19', 'lie', 'system', 'health', 'it.', 'must']\n",
      "Topic 1: ['', 'still', 'please', 'like', 'mask', 'retweet', '#covid19', 'see', 'much', 'wearing']\n",
      "Topic 2: ['', 'mask', 'quarantine', 'wear', 'day', 'coronavirus', 'like', 'people', 'got', '&amp;']\n",
      "Topic 3: ['', 'coronavirus', 'people', 'trump', 'covid-19', '&amp;', 'virus', 'pandemic', '-', '#covid19']\n",
      "Topic 4: ['quarantine', 'people', '', 'trump', 'want', 'like', 'coronavirus', 'wear', 'covid', 'covid-19']\n"
     ]
    }
   ],
   "source": [
    "from pyspark.ml.clustering import LDA\n",
    "\n",
    "# Train the LDA model\n",
    "lda = LDA(k=5, maxIter=10)  # k is the number of topics\n",
    "lda_model = lda.fit(tweets_dtm)\n",
    "\n",
    "# Describe topics\n",
    "topics = lda_model.describeTopics()\n",
    "vocab = cv_model.vocabulary\n",
    "for topic in topics.collect():\n",
    "    print(\"Topic {}: {}\".format(topic[0], [vocab[idx] for idx in topic[1]]))\n"
   ]
  },
  {
   "cell_type": "code",
   "execution_count": 10,
   "id": "35cc7190-7c62-4614-9be7-c60a880db46b",
   "metadata": {},
   "outputs": [
    {
     "name": "stdout",
     "output_type": "stream",
     "text": [
      "+---------------------------------------------------------------------------------------------------------------------------------------------------------------------------------------------------------+------------------------------------------------------------------------------------------------------+\n",
      "|Text                                                                                                                                                                                                     |topicDistribution                                                                                     |\n",
      "+---------------------------------------------------------------------------------------------------------------------------------------------------------------------------------------------------------+------------------------------------------------------------------------------------------------------+\n",
      "|We learned today that two Lakers players have tested positive for COVID-19. Both players are currently asymptomatic, in quarantine and under the care of the team’s physician.\\n\\nhttps://t.co/RmqjnRzGLk|[0.009303318508565429,0.00929921685147014,0.010069448887063369,0.961944449531628,0.009383566221273117]|\n",
      "+---------------------------------------------------------------------------------------------------------------------------------------------------------------------------------------------------------+------------------------------------------------------------------------------------------------------+\n",
      "only showing top 1 row\n",
      "\n"
     ]
    }
   ],
   "source": [
    "# Assign topics to documents\n",
    "topic_distributions = lda_model.transform(tweets_dtm)\n",
    "\n",
    "# Show the topic distribution for each document\n",
    "topic_distributions.select(\"Text\", \"topicDistribution\").show(1, truncate=False)\n"
   ]
  },
  {
   "cell_type": "code",
   "execution_count": 1,
   "id": "99f9ec5c-b24f-4420-a981-b5973ece06cd",
   "metadata": {},
   "outputs": [
    {
     "name": "stdout",
     "output_type": "stream",
     "text": [
      "Total lines of code: 68\n"
     ]
    }
   ],
   "source": [
    "import nbformat\n",
    "\n",
    "# Load the notebook file\n",
    "with open('topic_modeling.ipynb', 'r', encoding='utf-8') as f:\n",
    "    notebook = nbformat.read(f, as_version=4)\n",
    "\n",
    "# Count the lines of code in all code cells\n",
    "code_lines = 0\n",
    "for cell in notebook['cells']:\n",
    "    if cell['cell_type'] == 'code':\n",
    "        code_lines += len(cell['source'].splitlines())\n",
    "\n",
    "print(f\"Total lines of code: {code_lines}\")\n"
   ]
  },
  {
   "cell_type": "code",
   "execution_count": 1,
   "id": "6508e778-0afb-47d2-93f4-a3666ad1d4cf",
   "metadata": {},
   "outputs": [
    {
     "name": "stdout",
     "output_type": "stream",
     "text": [
      "Number of Spark Operations Found: 10\n"
     ]
    }
   ],
   "source": [
    "import json\n",
    "\n",
    "def count_spark_operations(notebook_path):\n",
    "    # Open the notebook file with utf-8 encoding\n",
    "    with open(notebook_path, 'r', encoding='utf-8') as f:\n",
    "        notebook = json.load(f)\n",
    "\n",
    "    spark_operation_count = 0\n",
    "    for cell in notebook['cells']:\n",
    "        if cell['cell_type'] == 'code':\n",
    "            code = cell['source']\n",
    "            # Check for common Spark operation keywords\n",
    "            for line in code:\n",
    "                if any(op in line for op in ['filter', 'select', 'groupBy', 'join', 'map', 'reduce', 'show', 'collect']):\n",
    "                    spark_operation_count += 1\n",
    "\n",
    "    return spark_operation_count\n",
    "\n",
    "# Example usage\n",
    "notebook_path = 'topic_modeling.ipynb'  # Update this with your notebook path\n",
    "operation_count = count_spark_operations(notebook_path)\n",
    "print(f\"Number of Spark Operations Found: {operation_count}\")\n"
   ]
  },
  {
   "cell_type": "code",
   "execution_count": null,
   "id": "defb5492-b124-4809-bd12-6a2f07b47393",
   "metadata": {},
   "outputs": [],
   "source": []
  }
 ],
 "metadata": {
  "kernelspec": {
   "display_name": "Python 3 (ipykernel)",
   "language": "python",
   "name": "python3"
  },
  "language_info": {
   "codemirror_mode": {
    "name": "ipython",
    "version": 3
   },
   "file_extension": ".py",
   "mimetype": "text/x-python",
   "name": "python",
   "nbconvert_exporter": "python",
   "pygments_lexer": "ipython3",
   "version": "3.10.0"
  }
 },
 "nbformat": 4,
 "nbformat_minor": 5
}
