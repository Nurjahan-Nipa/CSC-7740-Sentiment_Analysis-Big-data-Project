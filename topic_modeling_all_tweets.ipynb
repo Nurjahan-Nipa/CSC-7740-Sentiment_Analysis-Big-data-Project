{
 "cells": [
  {
   "cell_type": "code",
   "execution_count": 1,
   "id": "b95ea08e-c135-4db1-b23b-d1e79bcb717e",
   "metadata": {},
   "outputs": [],
   "source": [
    "import pyspark\n",
    "import pandas as pd"
   ]
  },
  {
   "cell_type": "code",
   "execution_count": 2,
   "id": "7ecdf73b-3f9b-402c-8b2d-5eae0cdaa538",
   "metadata": {},
   "outputs": [
    {
     "data": {
      "text/plain": [
       "'3.10.0 (tags/v3.10.0:b494f59, Oct  4 2021, 19:00:18) [MSC v.1929 64 bit (AMD64)]'"
      ]
     },
     "execution_count": 2,
     "metadata": {},
     "output_type": "execute_result"
    }
   ],
   "source": [
    "import sys\n",
    "sys.version"
   ]
  },
  {
   "cell_type": "code",
   "execution_count": 3,
   "id": "7af7cdf4-47cc-40e1-91b8-08974a13318c",
   "metadata": {},
   "outputs": [],
   "source": [
    "# Spark Session created\n",
    "#from pyspark.sql import SparkSession\n",
    "#spark = SparkSession.builder.getOrCreate()\n",
    "from pyspark.sql import SparkSession\n",
    "\n",
    "spark = SparkSession.builder \\\n",
    "    .appName(\"topic_modeling_all_tweets\") \\\n",
    "    .config(\"spark.driver.memory\", \"4g\") \\\n",
    "    .getOrCreate()\n"
   ]
  },
  {
   "cell_type": "code",
   "execution_count": 4,
   "id": "eef8cb15-6c87-4218-a0d1-df01259c4e64",
   "metadata": {},
   "outputs": [
    {
     "name": "stdout",
     "output_type": "stream",
     "text": [
      "Added C:\\Users\\nurja\\csc7740\\sqlite_db to sys.path\n"
     ]
    }
   ],
   "source": [
    "sqlite_db_path = 'C:\\\\Users\\\\nurja\\\\csc7740\\\\sqlite_db'\n",
    "\n",
    "\n",
    "if sqlite_db_path not in sys.path:\n",
    "    sys.path.append(sqlite_db_path)\n",
    "    print(f\"Added {sqlite_db_path} to sys.path\")\n",
    "    \n",
    "from sqlite_helpers import Sqlite_db"
   ]
  },
  {
   "cell_type": "markdown",
   "id": "7ca43b13-935d-4107-9ee8-1e1963b8214e",
   "metadata": {},
   "source": [
    "### Import all data, not only covid"
   ]
  },
  {
   "cell_type": "code",
   "execution_count": 5,
   "id": "2d04f961-a6c4-4648-a129-debb847e86c0",
   "metadata": {},
   "outputs": [],
   "source": [
    "import os\n",
    "\n",
    "def get_all_tweets_from_db(database_name, table_name):\n",
    "    data_dir = 'C:/Users/nurja/csc7740/COVID19MisinformationPaper/themes_of_misinfo_project_tweets/'\n",
    "    database_path = os.path.join(data_dir, 'sqlite_db')\n",
    "    \n",
    "    my_db = Sqlite_db(os.path.join(database_path, database_name))\n",
    "    \n",
    "    # Change the SQL query to select all tweets\n",
    "    df = my_db.query(f'SELECT * FROM {table_name}') \n",
    "    my_db.close()\n",
    "\n",
    "    return df\n"
   ]
  },
  {
   "cell_type": "code",
   "execution_count": 6,
   "id": "ff59f4fd-c568-45d9-b330-e6584eba5071",
   "metadata": {},
   "outputs": [
    {
     "name": "stdout",
     "output_type": "stream",
     "text": [
      "Loading: C:/Users/nurja/csc7740/COVID19MisinformationPaper/themes_of_misinfo_project_tweets/sqlite_db\\tweets_db_2023-03-12_17-57-49.db\n"
     ]
    },
    {
     "data": {
      "text/plain": [
       "(2769978, 16)"
      ]
     },
     "execution_count": 6,
     "metadata": {},
     "output_type": "execute_result"
    }
   ],
   "source": [
    "all_df = get_all_tweets_from_db('tweets_db_2023-03-12_17-57-49.db','raw_tweets') \n",
    "all_df.shape"
   ]
  },
  {
   "cell_type": "code",
   "execution_count": 7,
   "id": "18dbebf5-813f-408d-a542-b24620b36759",
   "metadata": {},
   "outputs": [],
   "source": [
    "#tweets_db_converted= all_df.to_csv(\"all_tweets.csv\", index=False)"
   ]
  },
  {
   "cell_type": "code",
   "execution_count": 8,
   "id": "7c93c2e4-3a64-4b68-96c9-c72744d2ffad",
   "metadata": {},
   "outputs": [
    {
     "data": {
      "text/html": [
       "<div>\n",
       "<style scoped>\n",
       "    .dataframe tbody tr th:only-of-type {\n",
       "        vertical-align: middle;\n",
       "    }\n",
       "\n",
       "    .dataframe tbody tr th {\n",
       "        vertical-align: top;\n",
       "    }\n",
       "\n",
       "    .dataframe thead th {\n",
       "        text-align: right;\n",
       "    }\n",
       "</style>\n",
       "<table border=\"1\" class=\"dataframe\">\n",
       "  <thead>\n",
       "    <tr style=\"text-align: right;\">\n",
       "      <th></th>\n",
       "      <th>TweetID</th>\n",
       "      <th>UserID</th>\n",
       "      <th>Username</th>\n",
       "      <th>Timestamp</th>\n",
       "      <th>Text</th>\n",
       "      <th>State</th>\n",
       "      <th>County</th>\n",
       "      <th>City</th>\n",
       "      <th>Sentiment</th>\n",
       "      <th>COVID-related</th>\n",
       "      <th>AgeGroup</th>\n",
       "      <th>Age_Confidence</th>\n",
       "      <th>Gender</th>\n",
       "      <th>Gender_Confidence</th>\n",
       "      <th>Org_Confidence</th>\n",
       "      <th>Retweet</th>\n",
       "    </tr>\n",
       "  </thead>\n",
       "  <tbody>\n",
       "    <tr>\n",
       "      <th>0</th>\n",
       "      <td>1240790159890747393</td>\n",
       "      <td>2917257384</td>\n",
       "      <td>dawnnodemi</td>\n",
       "      <td>Fri Mar 20 00:00:01 +0000 2020</td>\n",
       "      <td>This is giving me the world coming to an end t...</td>\n",
       "      <td>Louisiana</td>\n",
       "      <td>NaN</td>\n",
       "      <td>NaN</td>\n",
       "      <td>-0.1154</td>\n",
       "      <td>0</td>\n",
       "      <td>19-29</td>\n",
       "      <td>0.7815</td>\n",
       "      <td>female</td>\n",
       "      <td>0.9628</td>\n",
       "      <td>0.0006</td>\n",
       "      <td>1</td>\n",
       "    </tr>\n",
       "  </tbody>\n",
       "</table>\n",
       "</div>"
      ],
      "text/plain": [
       "               TweetID      UserID    Username  \\\n",
       "0  1240790159890747393  2917257384  dawnnodemi   \n",
       "\n",
       "                        Timestamp  \\\n",
       "0  Fri Mar 20 00:00:01 +0000 2020   \n",
       "\n",
       "                                                Text      State County City  \\\n",
       "0  This is giving me the world coming to an end t...  Louisiana    NaN  NaN   \n",
       "\n",
       "   Sentiment  COVID-related AgeGroup  Age_Confidence  Gender  \\\n",
       "0    -0.1154              0    19-29          0.7815  female   \n",
       "\n",
       "   Gender_Confidence  Org_Confidence  Retweet  \n",
       "0             0.9628          0.0006        1  "
      ]
     },
     "execution_count": 8,
     "metadata": {},
     "output_type": "execute_result"
    }
   ],
   "source": [
    "df = pd.read_csv(\"all_tweets.csv\")\n",
    "df.head(1)"
   ]
  },
  {
   "cell_type": "code",
   "execution_count": 9,
   "id": "b4648742-98aa-4fc4-81c1-29bd688e42f3",
   "metadata": {},
   "outputs": [
    {
     "data": {
      "text/plain": [
       "(2769978, 16)"
      ]
     },
     "execution_count": 9,
     "metadata": {},
     "output_type": "execute_result"
    }
   ],
   "source": [
    "df.shape"
   ]
  },
  {
   "cell_type": "code",
   "execution_count": 10,
   "id": "4f205691-8366-4f15-a056-b19eb44ab9be",
   "metadata": {},
   "outputs": [
    {
     "name": "stdout",
     "output_type": "stream",
     "text": [
      "State\n",
      "Washington    1567973\n",
      "Louisiana     1202005\n",
      "Name: count, dtype: int64\n"
     ]
    }
   ],
   "source": [
    "state_counts = df['State'].value_counts()\n",
    "\n",
    "# Display the result\n",
    "print(state_counts)"
   ]
  },
  {
   "cell_type": "code",
   "execution_count": 11,
   "id": "8edda212-35d0-4ea6-a9c4-e768fc5ce3e2",
   "metadata": {},
   "outputs": [
    {
     "name": "stdout",
     "output_type": "stream",
     "text": [
      "+-------------------+----------+----------+--------------------+--------------------+---------+------+----+---------+-------------+--------+--------------+------+-----------------+--------------+-------+\n",
      "|            TweetID|    UserID|  Username|           Timestamp|                Text|    State|County|City|Sentiment|COVID-related|AgeGroup|Age_Confidence|Gender|Gender_Confidence|Org_Confidence|Retweet|\n",
      "+-------------------+----------+----------+--------------------+--------------------+---------+------+----+---------+-------------+--------+--------------+------+-----------------+--------------+-------+\n",
      "|1240790159890747393|2917257384|dawnnodemi|Fri Mar 20 00:00:...|This is giving me...|Louisiana|   NaN| NaN|  -0.1154|            0|   19-29|        0.7815|female|           0.9628|        6.0E-4|      1|\n",
      "+-------------------+----------+----------+--------------------+--------------------+---------+------+----+---------+-------------+--------+--------------+------+-----------------+--------------+-------+\n",
      "only showing top 1 row\n",
      "\n"
     ]
    }
   ],
   "source": [
    "# Convert Pandas DataFrame to Spark DataFrame\n",
    "spark_df = spark.createDataFrame(df)\n",
    "\n",
    "# Show the Spark DataFrame\n",
    "spark_df.show(1)"
   ]
  },
  {
   "cell_type": "code",
   "execution_count": 12,
   "id": "f81fc99e-dc4f-4523-8286-128ba25658b1",
   "metadata": {},
   "outputs": [
    {
     "name": "stdout",
     "output_type": "stream",
     "text": [
      "Number of rows: 2769978\n",
      "Number of columns: 16\n"
     ]
    }
   ],
   "source": [
    "# Get the number of rows\n",
    "num_rows = spark_df.count()\n",
    "print(f\"Number of rows: {num_rows}\")\n",
    "# Get the number of columns\n",
    "num_columns = len(spark_df.columns)\n",
    "print(f\"Number of columns: {num_columns}\")"
   ]
  },
  {
   "cell_type": "code",
   "execution_count": 13,
   "id": "109eb718-245b-4397-9a23-79236b2c3560",
   "metadata": {},
   "outputs": [
    {
     "name": "stdout",
     "output_type": "stream",
     "text": [
      "+-------------------------------------------------------------------------------------------------------------------------------------------------------------------------------------------------------------------------------------------------------------------------------------+------------------------------------------------------------------------------------------------------------------------------------------------------------------------------------------------------------------------------+\n",
      "|Text                                                                                                                                                                                                                                                                                 |filtered_words                                                                                                                                                                                                                |\n",
      "+-------------------------------------------------------------------------------------------------------------------------------------------------------------------------------------------------------------------------------------------------------------------------------------+------------------------------------------------------------------------------------------------------------------------------------------------------------------------------------------------------------------------------+\n",
      "|This is giving me the world coming to an end type of vibe, y’all just stay prayed up and safe out here. I don’t know what’s going on but it’s starting to bother me.                                                                                                                 |[giving, world, coming, end, type, vibe,, y’all, stay, prayed, safe, here., don’t, know, what’s, going, it’s, starting, bother, me.]                                                                                          |\n",
      "|@FunTeedy Bruhhh I’m weak                                                                                                                                                                                                                                                            |[@funteedy, bruhhh, i’m, weak]                                                                                                                                                                                                |\n",
      "|Im telling you, the greatest player to ever play                                                                                                                                                                                                                                     |[im, telling, you,, greatest, player, ever, play]                                                                                                                                                                             |\n",
      "|Now Playin on the CRUSADE Channel; The Adventures of #SherlockHolmes radio dramas starring Basil Rathbone and Nigel Bruce.\\n#Radio #Serial #Detective \\n\\nListen for #FREE:\\nhttps://t.co/C6csd9Kch9 https://t.co/C44TmFFp2U                                                         |[playin, crusade, channel;, adventures, #sherlockholmes, radio, dramas, starring, basil, rathbone, nigel, bruce., #radio, #serial, #detective, , , listen, #free:, https://t.co/c6csd9kch9, https://t.co/c44tmffp2u]          |\n",
      "|All these NBA players getting that shi                                                                                                                                                                                                                                               |[nba, players, getting, shi]                                                                                                                                                                                                  |\n",
      "|When I don’t fwy you gon feel it in every way                                                                                                                                                                                                                                        |[don’t, fwy, gon, feel, every, way]                                                                                                                                                                                           |\n",
      "|I love an icecold sholder                                                                                                                                                                                                                                                            |[love, icecold, sholder]                                                                                                                                                                                                      |\n",
      "|Shallow water yo momma                                                                                                                                                                                                                                                               |[shallow, water, yo, momma]                                                                                                                                                                                                   |\n",
      "|one person followed me and 2 people unfollowed me // automatically checked by https://t.co/Zssx71o7m3                                                                                                                                                                                |[one, person, followed, 2, people, unfollowed, //, automatically, checked, https://t.co/zssx71o7m3]                                                                                                                           |\n",
      "|one person unfollowed me // automatically checked by https://t.co/7ukD10NH6x                                                                                                                                                                                                         |[one, person, unfollowed, //, automatically, checked, https://t.co/7ukd10nh6x]                                                                                                                                                |\n",
      "|The notion that the rich need more to do more, for some kinda trickle-down economics while the poor can somehow do more with less is one of America's oldest tricks. And it's absolute bullshit.                                                                                     |[notion, rich, need, more,, kinda, trickle-down, economics, poor, somehow, less, one, america's, oldest, tricks., absolute, bullshit.]                                                                                        |\n",
      "|@SportsCenter @CapitalOne Chris Jackson at 15 seed is beyond ridiculous and Shaq at 9 as well......                                                                                                                                                                                  |[@sportscenter, @capitalone, chris, jackson, 15, seed, beyond, ridiculous, shaq, 9, well......]                                                                                                                               |\n",
      "|@Robert_E_Kelly @MalcolmNance Remember weapons of mass destruction?  This is laying the groundwork for war with China.  Trump will do anything not to lose the White House.                                                                                                          |[@robert_e_kelly, @malcolmnance, remember, weapons, mass, destruction?, , laying, groundwork, war, china., , trump, anything, lose, white, house.]                                                                            |\n",
      "|My grandmother talkin bout we ready Lord... Who da fuck is we                                                                                                                                                                                                                        |[grandmother, talkin, bout, ready, lord..., da, fuck]                                                                                                                                                                         |\n",
      "|We learned today that two Lakers players have tested positive for COVID-19. Both players are currently asymptomatic, in quarantine and under the care of the team’s physician.\\n\\nhttps://t.co/RmqjnRzGLk                                                                            |[learned, today, two, lakers, players, tested, positive, covid-19., players, currently, asymptomatic,, quarantine, care, team’s, physician., , https://t.co/rmqjnrzglk]                                                       |\n",
      "|what you allow , will continue ‼️‼️                                                                                                                                                                                                                                                  |[allow, ,, continue, ‼️‼️]                                                                                                                                                                                                    |\n",
      "|It's crazy how long LeBron has been in the spotlight. https://t.co/uF0RPhoWZi                                                                                                                                                                                                        |[crazy, long, lebron, spotlight., https://t.co/uf0rphowzi]                                                                                                                                                                    |\n",
      "|By the end of February, a Berlin start-up had produced 1.4 million tests for coronavirus to ship around the world.  The US said no thanks; we can create our own. \\nBut now after numerous failures, the US now has the lowest rate for testing its citizens  https://t.co/ulTFDOOlje|[end, february,, berlin, start-up, produced, 1.4, million, tests, coronavirus, ship, around, world., , us, said, thanks;, create, own., , numerous, failures,, us, lowest, rate, testing, citizens, , https://t.co/ultfdoolje]|\n",
      "|Go tf outside right now, it ain’t been that damn long.                                                                                                                                                                                                                               |[go, tf, outside, right, now,, ain’t, damn, long.]                                                                                                                                                                            |\n",
      "|\"No country is better prepared\"?! Pence sounds like a Soviet agriculture minister boasting of record grain harvests while people starve. The truth is whatever Dear Leader says today.                                                                                               |[\"no, country, better, prepared\"?!, pence, sounds, like, soviet, agriculture, minister, boasting, record, grain, harvests, people, starve., truth, whatever, dear, leader, says, today.]                                      |\n",
      "+-------------------------------------------------------------------------------------------------------------------------------------------------------------------------------------------------------------------------------------------------------------------------------------+------------------------------------------------------------------------------------------------------------------------------------------------------------------------------------------------------------------------------+\n",
      "only showing top 20 rows\n",
      "\n"
     ]
    }
   ],
   "source": [
    "## Data Preprocessing \n",
    "\n",
    "from pyspark.ml.feature import Tokenizer, StopWordsRemover\n",
    "\n",
    "# Tokenize the text\n",
    "tokenizer = Tokenizer(inputCol=\"Text\", outputCol=\"words\")\n",
    "tweets_words = tokenizer.transform(spark_df)\n",
    "\n",
    "# Remove stop words\n",
    "remover = StopWordsRemover(inputCol=\"words\", outputCol=\"filtered_words\")\n",
    "tweets_filtered = remover.transform(tweets_words)\n",
    "\n",
    "# Show the preprocessed DataFrame\n",
    "tweets_filtered.select(\"Text\", \"filtered_words\").show(truncate=False)\n"
   ]
  },
  {
   "cell_type": "code",
   "execution_count": 14,
   "id": "57061d08-ef40-4a63-bdb9-d0d01b5a7ddd",
   "metadata": {},
   "outputs": [
    {
     "name": "stdout",
     "output_type": "stream",
     "text": [
      "+-------------------------------------------------------------------------------------------------------------------------------------------------------------------------------------------------------------------------------------------------------------------------------------+-------------------------------------------------------------------------------------------------------------------------------------------------------------------------------------------------------------------------+\n",
      "|Text                                                                                                                                                                                                                                                                                 |features                                                                                                                                                                                                                 |\n",
      "+-------------------------------------------------------------------------------------------------------------------------------------------------------------------------------------------------------------------------------------------------------------------------------------+-------------------------------------------------------------------------------------------------------------------------------------------------------------------------------------------------------------------------+\n",
      "|This is giving me the world coming to an end type of vibe, y’all just stay prayed up and safe out here. I don’t know what’s going on but it’s starting to bother me.                                                                                                                 |(262144,[9,11,12,17,49,53,111,186,188,194,333,392,467,499,578,854,3847,11805,34379],[1.0,1.0,1.0,1.0,1.0,1.0,1.0,1.0,1.0,1.0,1.0,1.0,1.0,1.0,1.0,1.0,1.0,1.0,1.0])                                                       |\n",
      "|@FunTeedy Bruhhh I’m weak                                                                                                                                                                                                                                                            |(262144,[6,1721,26580,38835],[1.0,1.0,1.0,1.0])                                                                                                                                                                          |\n",
      "|Im telling you, the greatest player to ever play                                                                                                                                                                                                                                     |(262144,[64,206,212,273,483,1188,1529],[1.0,1.0,1.0,1.0,1.0,1.0,1.0])                                                                                                                                                    |\n",
      "|Now Playin on the CRUSADE Channel; The Adventures of #SherlockHolmes radio dramas starring Basil Rathbone and Nigel Bruce.\\n#Radio #Serial #Detective \\n\\nListen for #FREE:\\nhttps://t.co/C6csd9Kch9 https://t.co/C44TmFFp2U                                                         |(262144,[0,306,1669,7538,8657,10273,13606,23140,25032,33136,36545,52440,84949,85313,87766,246941],[2.0,1.0,1.0,1.0,1.0,1.0,1.0,1.0,1.0,1.0,1.0,1.0,1.0,1.0,1.0,1.0])                                                     |\n",
      "|All these NBA players getting that shi                                                                                                                                                                                                                                               |(262144,[65,1092,1767,25254],[1.0,1.0,1.0,1.0])                                                                                                                                                                          |\n",
      "|When I don’t fwy you gon feel it in every way                                                                                                                                                                                                                                        |(262144,[11,34,47,75,1396,11459],[1.0,1.0,1.0,1.0,1.0,1.0])                                                                                                                                                              |\n",
      "|I love an icecold sholder                                                                                                                                                                                                                                                            |(262144,[19],[1.0])                                                                                                                                                                                                      |\n",
      "|Shallow water yo momma                                                                                                                                                                                                                                                               |(262144,[590,705,2964,21632],[1.0,1.0,1.0,1.0])                                                                                                                                                                          |\n",
      "|one person followed me and 2 people unfollowed me // automatically checked by https://t.co/Zssx71o7m3                                                                                                                                                                                |(262144,[2,5,79,92,782,857,872,922,1435],[1.0,1.0,1.0,1.0,1.0,1.0,1.0,1.0,1.0])                                                                                                                                          |\n",
      "|one person unfollowed me // automatically checked by https://t.co/7ukD10NH6x                                                                                                                                                                                                         |(262144,[5,92,782,872,922,1435],[1.0,1.0,1.0,1.0,1.0,1.0])                                                                                                                                                               |\n",
      "|The notion that the rich need more to do more, for some kinda trickle-down economics while the poor can somehow do more with less is one of America's oldest tricks. And it's absolute bullshit.                                                                                     |(262144,[5,10,356,697,811,1042,1687,2299,2938,3071,3364,8165,8774,8894,33194,41077],[1.0,1.0,1.0,1.0,1.0,1.0,1.0,1.0,1.0,1.0,1.0,1.0,1.0,1.0,1.0,1.0])                                                                   |\n",
      "|@SportsCenter @CapitalOne Chris Jackson at 15 seed is beyond ridiculous and Shaq at 9 as well......                                                                                                                                                                                  |(262144,[881,942,990,2246,2426,2931,7488,10556,14781,50817,168730],[1.0,1.0,1.0,1.0,1.0,1.0,1.0,1.0,1.0,1.0,1.0])                                                                                                        |\n",
      "|@Robert_E_Kelly @MalcolmNance Remember weapons of mass destruction?  This is laying the groundwork for war with China.  Trump will do anything not to lose the White House.                                                                                                          |(262144,[0,8,87,196,202,532,687,1152,1491,3292,3437,5617,12429,27956,107222,140098],[2.0,1.0,1.0,1.0,1.0,1.0,1.0,1.0,1.0,1.0,1.0,1.0,1.0,1.0,1.0,1.0])                                                                   |\n",
      "|My grandmother talkin bout we ready Lord... Who da fuck is we                                                                                                                                                                                                                        |(262144,[82,290,682,1526,4995,7167,35091],[1.0,1.0,1.0,1.0,1.0,1.0,1.0])                                                                                                                                                 |\n",
      "|We learned today that two Lakers players have tested positive for COVID-19. Both players are currently asymptomatic, in quarantine and under the care of the team’s physician.\\n\\nhttps://t.co/RmqjnRzGLk                                                                            |(262144,[0,54,81,83,117,335,413,773,825,947,1092,8842,13117,22851,24696,188308],[1.0,1.0,1.0,1.0,1.0,1.0,1.0,1.0,1.0,1.0,2.0,1.0,1.0,1.0,1.0,1.0])                                                                       |\n",
      "|what you allow , will continue ‼️‼️                                                                                                                                                                                                                                                  |(262144,[198,438,897,18840],[1.0,1.0,1.0,1.0])                                                                                                                                                                           |\n",
      "|It's crazy how long LeBron has been in the spotlight. https://t.co/uF0RPhoWZi                                                                                                                                                                                                        |(262144,[138,469,3559,29586,76208],[1.0,1.0,1.0,1.0,1.0])                                                                                                                                                                |\n",
      "|By the end of February, a Berlin start-up had produced 1.4 million tests for coronavirus to ship around the world.  The US said no thanks; we can create our own. \\nBut now after numerous failures, the US now has the lowest rate for testing its citizens  https://t.co/ulTFDOOlje|(262144,[0,15,35,44,125,194,235,278,790,804,934,946,1358,1786,2739,4783,6264,7065,7183,19122,23099,32139,97933,257348],[3.0,2.0,1.0,1.0,1.0,1.0,1.0,1.0,1.0,1.0,1.0,1.0,1.0,1.0,1.0,1.0,1.0,1.0,1.0,1.0,1.0,1.0,1.0,1.0])|\n",
      "|Go tf outside right now, it ain’t been that damn long.                                                                                                                                                                                                                               |(262144,[16,27,215,224,363,461,912,2740],[1.0,1.0,1.0,1.0,1.0,1.0,1.0,1.0])                                                                                                                                              |\n",
      "|\"No country is better prepared\"?! Pence sounds like a Soviet agriculture minister boasting of record grain harvests while people starve. The truth is whatever Dear Leader says today.                                                                                               |(262144,[1,2,84,108,159,240,706,712,766,794,940,1290,1372,4236,5153,14599,18449,23659,25039,34360,119399,225658],[1.0,1.0,1.0,1.0,1.0,1.0,1.0,1.0,1.0,1.0,1.0,1.0,1.0,1.0,1.0,1.0,1.0,1.0,1.0,1.0,1.0,1.0])              |\n",
      "+-------------------------------------------------------------------------------------------------------------------------------------------------------------------------------------------------------------------------------------------------------------------------------------+-------------------------------------------------------------------------------------------------------------------------------------------------------------------------------------------------------------------------+\n",
      "only showing top 20 rows\n",
      "\n"
     ]
    }
   ],
   "source": [
    "## Data Preprocessing \n",
    "\n",
    "from pyspark.ml.feature import CountVectorizer\n",
    "\n",
    "# Create a CountVectorizer model\n",
    "cv = CountVectorizer(inputCol=\"filtered_words\", outputCol=\"features\")\n",
    "\n",
    "# Fit the model to the DataFrame and transform it\n",
    "cv_model = cv.fit(tweets_filtered)\n",
    "tweets_dtm = cv_model.transform(tweets_filtered)\n",
    "\n",
    "# Show the DTM\n",
    "tweets_dtm.select(\"Text\", \"features\").show(truncate=False)\n"
   ]
  },
  {
   "cell_type": "code",
   "execution_count": 15,
   "id": "9adf0cb4-9f24-4cf1-b9db-64989334a5cc",
   "metadata": {},
   "outputs": [
    {
     "name": "stdout",
     "output_type": "stream",
     "text": [
      "Topic 0: ['', 'one', 'people', 'get', 'trump', '&amp;', 'still', 'right', 'person', 'black']\n",
      "Topic 1: ['', 'like', 'people', 'get', '&amp;', 'i’m', 'trump', 'one', 'it’s', 'don’t']\n",
      "Topic 2: ['', 'like', 'one', '&amp;', 'love', 'happy', 'got', 'u', 'trump', 'best']\n",
      "Topic 3: ['need', 'get', 'love', 'people', '', 'it’s', 'first', '&amp;', 'got', 'like']\n",
      "Topic 4: ['-', '', '&amp;', 'i’m', '.', 'people', 'new', 'love', 'need', 'please']\n"
     ]
    }
   ],
   "source": [
    "from pyspark.ml.clustering import LDA\n",
    "\n",
    "# Train the LDA model\n",
    "lda = LDA(k=5, maxIter=10)  # k is the number of topics\n",
    "lda_model = lda.fit(tweets_dtm)\n",
    "\n",
    "# Describe topics\n",
    "topics = lda_model.describeTopics()\n",
    "vocab = cv_model.vocabulary\n",
    "for topic in topics.collect():\n",
    "    print(\"Topic {}: {}\".format(topic[0], [vocab[idx] for idx in topic[1]]))\n"
   ]
  },
  {
   "cell_type": "code",
   "execution_count": 16,
   "id": "235ff597-a734-4cfb-b6e6-27a4a788a02d",
   "metadata": {},
   "outputs": [
    {
     "name": "stdout",
     "output_type": "stream",
     "text": [
      "Total lines of code: 106\n"
     ]
    }
   ],
   "source": [
    "import nbformat\n",
    "\n",
    "# Load the notebook file\n",
    "with open('topic_modeling_all_tweets.ipynb', 'r', encoding='utf-8') as f:\n",
    "    notebook = nbformat.read(f, as_version=4)\n",
    "\n",
    "# Count the lines of code in all code cells\n",
    "code_lines = 0\n",
    "for cell in notebook['cells']:\n",
    "    if cell['cell_type'] == 'code':\n",
    "        code_lines += len(cell['source'].splitlines())\n",
    "\n",
    "print(f\"Total lines of code: {code_lines}\")\n"
   ]
  },
  {
   "cell_type": "code",
   "execution_count": 1,
   "id": "aae0204c-0dd5-468b-950e-4d5b0a852fed",
   "metadata": {},
   "outputs": [
    {
     "name": "stdout",
     "output_type": "stream",
     "text": [
      "Number of Spark Operations Found: 12\n"
     ]
    }
   ],
   "source": [
    "import json\n",
    "\n",
    "def count_spark_operations(notebook_path):\n",
    "    # Open the notebook file with utf-8 encoding\n",
    "    with open(notebook_path, 'r', encoding='utf-8') as f:\n",
    "        notebook = json.load(f)\n",
    "\n",
    "    spark_operation_count = 0\n",
    "    for cell in notebook['cells']:\n",
    "        if cell['cell_type'] == 'code':\n",
    "            code = cell['source']\n",
    "            # Check for common Spark operation keywords\n",
    "            for line in code:\n",
    "                if any(op in line for op in ['filter', 'select', 'groupBy', 'join', 'map', 'reduce', 'show', 'collect']):\n",
    "                    spark_operation_count += 1\n",
    "\n",
    "    return spark_operation_count\n",
    "\n",
    "# Example usage\n",
    "notebook_path = 'topic_modeling_all_tweets.ipynb'  # Update this with your notebook path\n",
    "operation_count = count_spark_operations(notebook_path)\n",
    "print(f\"Number of Spark Operations Found: {operation_count}\")\n"
   ]
  },
  {
   "cell_type": "code",
   "execution_count": null,
   "id": "326c3176-2ec5-4bd1-87b7-c437853fff3c",
   "metadata": {},
   "outputs": [],
   "source": []
  }
 ],
 "metadata": {
  "kernelspec": {
   "display_name": "Python 3 (ipykernel)",
   "language": "python",
   "name": "python3"
  },
  "language_info": {
   "codemirror_mode": {
    "name": "ipython",
    "version": 3
   },
   "file_extension": ".py",
   "mimetype": "text/x-python",
   "name": "python",
   "nbconvert_exporter": "python",
   "pygments_lexer": "ipython3",
   "version": "3.10.0"
  }
 },
 "nbformat": 4,
 "nbformat_minor": 5
}
